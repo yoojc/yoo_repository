{
  "nbformat": 4,
  "nbformat_minor": 0,
  "metadata": {
    "colab": {
      "provenance": [],
      "authorship_tag": "ABX9TyOcHgZQCwAgOMYyNz+cI9XQ",
      "include_colab_link": true
    },
    "kernelspec": {
      "name": "python3",
      "display_name": "Python 3"
    },
    "language_info": {
      "name": "python"
    }
  },
  "cells": [
    {
      "cell_type": "markdown",
      "metadata": {
        "id": "view-in-github",
        "colab_type": "text"
      },
      "source": [
        "<a href=\"https://colab.research.google.com/github/yoojc/yoo_repository/blob/main/Colab1.ipynb\" target=\"_parent\"><img src=\"https://colab.research.google.com/assets/colab-badge.svg\" alt=\"Open In Colab\"/></a>"
      ]
    },
    {
      "cell_type": "code",
      "source": [],
      "metadata": {
        "id": "iOvuKB28zfhD"
      },
      "execution_count": null,
      "outputs": []
    },
    {
      "cell_type": "code",
      "execution_count": null,
      "metadata": {
        "colab": {
          "base_uri": "https://localhost:8080/"
        },
        "id": "gVIEg3pgyKmc",
        "outputId": "0d7555c6-5cbb-4bab-d6cd-4004ba64c928"
      },
      "outputs": [
        {
          "output_type": "stream",
          "name": "stdout",
          "text": [
            "안녕하세요,\n",
            "2\n"
          ]
        }
      ],
      "source": [
        "print('안녕하세요,')\n",
        "a=1\n",
        "b=1\n",
        "c=a+b\n",
        "print(c)"
      ]
    },
    {
      "cell_type": "markdown",
      "source": [
        "This is for Text Cell.\n",
        "\n",
        "**Mark Down**\n",
        "# 개요1\n",
        "##개요2\n",
        "* section 1\n",
        "* section2\n",
        "```\n",
        "> block1\n",
        "> block2\n",
        "\n"
      ],
      "metadata": {
        "id": "0rQcxJzQ0B6G"
      }
    },
    {
      "cell_type": "code",
      "source": [],
      "metadata": {
        "id": "7hy2l5zsyWww"
      },
      "execution_count": null,
      "outputs": []
    },
    {
      "cell_type": "code",
      "source": [
        "for i in range(10):\n",
        " print(i)"
      ],
      "metadata": {
        "colab": {
          "base_uri": "https://localhost:8080/"
        },
        "id": "SIJQl2njzUgp",
        "outputId": "c8a56d6f-9770-445b-dee7-d127c7b85a10"
      },
      "execution_count": null,
      "outputs": [
        {
          "output_type": "stream",
          "name": "stdout",
          "text": [
            "0\n",
            "1\n",
            "2\n",
            "3\n",
            "4\n",
            "5\n",
            "6\n",
            "7\n",
            "8\n",
            "9\n"
          ]
        }
      ]
    }
  ]
}